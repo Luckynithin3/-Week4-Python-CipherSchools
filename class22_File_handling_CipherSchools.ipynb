class A:
    def __enter__(self):
        print("Entered")
        return 1
    def __exit__(self,*args):
        print("Excited")
        print(args)
        return True
with A() as x:
    print(x)
    print("inside context")
    raise Exception
print("outside context")
Entered
1
inside context
Excited
(<class 'Exception'>, Exception(), <traceback object at 0x7fd8968f78c0>)
outside context
# <html>
#   <body>
#     Hello world
#   </body>
# </html>
'''{
  "html":{
    "body":"Hello World"
  }
}'''
{\n  "html":{\n    "body":"Hello World"\n  }\n}
# JASON RULE
# -keys can only be strings and numbers
# -values can only be arrays,json,strings,numbers,boolean,null
a={
    "name":"Jatin Katyal",
   "marks":100,
   "language":[
       "C++",
       "Python",
       "go",
       "rust"
   ]
}
import json
s=json.dumps(a)
type(s)
print(s)
a={
    "name":"Jatin Katyal",
   "marks":100,
   "language":[
       "C++",
       "Python",
       "go",
       "rust"
   ]
}
import json
s=json.dumps(a)
type(s)
print(s)
